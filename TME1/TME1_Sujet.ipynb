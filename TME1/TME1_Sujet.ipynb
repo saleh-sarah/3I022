{
 "cells": [
  {
   "cell_type": "markdown",
   "metadata": {},
   "source": [
    "# TME1 : premier pas en traitement d'image avec Python et Jupyter\n",
    "\n",
    "> Consignes: le fichier **TME1_Sujet.ipynb** est à déposer sur le site Moodle de l'UE https://moodle-sciences.upmc.fr/moodle-2018/course/view.php?id=4650. Si vous êtes en binôme, renommez-le en **TME1_nom1_nom2.ipynb**.\n",
    "\n",
    "Pour ce premier TME, qui consiste à réaliser des opérations de base de traitement d'image, nous utiliserons uniquement le language Python natif, sans module particulier et cela pour bien comprendre ce qu'est une image sur le disque et sa représentation en mémoire, une liste de valeurs, organisée en lignes de pixels.\n",
    "\n",
    "Les deux fonctions suivantes permettent respectivement de lire et d'écrire sur le disque des images au format Portable Grey Map (PGM). Elle utilise le type formel <tt>Image</tt> qui est <tt>tuple[list[int],int,int]</tt>, selon les conventions du cours 1I001. Le premier élément est la liste des pixels de l'image, ordonnée ligne par ligne, le second élément est la longueur d'une ligne (soit le nombre de pixels dans une ligne), et le troisième le nombre de lignes.\n"
   ]
  },
  {
   "cell_type": "code",
   "execution_count": 23,
   "metadata": {},
   "outputs": [],
   "source": [
    "def readPGM(file):\n",
    "    \"\"\"  str -> tuple[list[int],int,int] | NoneType\n",
    "    Lit un fichier PGM et retourne la liste des valeurs de \n",
    "    l'image et ses dimensions (nombre de colonnes, nombre de lignes).\n",
    "    \"\"\"\n",
    "    fp = open(file,'rb')\n",
    "    # en mode binaire, readline() retourne un type 'bytes'\n",
    "    if fp.readline() == b'P5\\n':\n",
    "        while True:\n",
    "            # lecture d'une ligne, conversion vers str\n",
    "            line = fp.readline().decode()\n",
    "            if line[0] != '#': break\n",
    "        # découpage en mots, puis conversion        \n",
    "        w,h=line.split()\n",
    "        w,h=int(w),int(h)\n",
    "        # Nb de niveaux de gris (pas utile mais il faut le lire)\n",
    "        l=fp.readline()\n",
    "        # données\n",
    "        data = list(fp.read(w*h))\n",
    "        if len(data) != w*h:\n",
    "            print ('readPGM: error with ' + file + ': has wrong size')\n",
    "        fp.close()\n",
    "        return (data,w,h)\n",
    "    else:\n",
    "        print( 'readPGM: error with '+ file + ': unsupported format')\n",
    "    fp.close()\n",
    "    return None\n",
    "\n",
    "def writePGM(image,file):\n",
    "   \"\"\" tuple(list[int],int,int)*str -> NoneType\n",
    "   Ecrit une image au format PGM \n",
    "   \"\"\"\n",
    "   data,w,h = image\n",
    "   fp = open(file,'wb')\n",
    "   fp.writelines([bytes('P5\\n'+str(w)+' '+str(h)+'\\n255\\n','utf8')])\n",
    "   fp.write(bytearray(data))\n",
    "   fp.close()"
   ]
  },
  {
   "cell_type": "markdown",
   "metadata": {},
   "source": [
    "Pour voir une image, nous utiliserons une commande de votre système (normalement Linux Debian) qui affichera l'image lu depuis le disque. Si vous utilisez un autre système d'exploitation (OSX ou Windows), il faudra utiliser un programme spécifique.     "
   ]
  },
  {
   "cell_type": "code",
   "execution_count": 24,
   "metadata": {},
   "outputs": [],
   "source": [
    "from os import system\n",
    "\n",
    "def viewImage(image):\n",
    "    \"\"\" tuple[list[int],int,int] -> NoneType\n",
    "    Lit et affiche une image depuis le disque\n",
    "    \"\"\"\n",
    "    writePGM(image,'viewimage.pgm')\n",
    "    system( 'xdg-open viewimage.pgm')\n",
    "    system( 'rm -f viewimage.pgm')\n"
   ]
  },
  {
   "cell_type": "markdown",
   "metadata": {},
   "source": [
    "# Exercice 1: visualisation et histogramme\n",
    "\n",
    "## 1.1 Voir une image\n",
    "Écrire un code python qui lit l'image <tt>img/carrefou.pgm</tt> l'affiche à l'écran et imprime ses dimensions."
   ]
  },
  {
   "cell_type": "code",
   "execution_count": null,
   "metadata": {},
   "outputs": [],
   "source": []
  },
  {
   "cell_type": "markdown",
   "metadata": {},
   "source": [
    "## 1.2 Calcul d'histogramme\n",
    "\n",
    "Écrire une fonction <tt>histogram()</tt> qui prend la liste des valeurs d'une image, un entier <tt>n</tt> et retourne une liste des <tt>n</tt> valeurs représentant l'histogramme de l'image."
   ]
  },
  {
   "cell_type": "code",
   "execution_count": 1,
   "metadata": {},
   "outputs": [],
   "source": [
    "def histogram(data,n):\n",
    "    \"\"\" list[int]*int > list[int] \"\"\"     "
   ]
  },
  {
   "cell_type": "markdown",
   "metadata": {},
   "source": [
    "## 1.3 Affichage d'histogramme\n",
    "Écrire un code Python qui charge une image, calcule son histogramme, et l'affiche l'histogramme sous forme textuelle, par exemple:\n",
    "<pre>\n",
    "0 -> 3\n",
    "1 -> 5\n",
    "2 -> 10\n",
    " ...\n",
    "</pre>\n",
    "Dans cet exemple, il faut lire qu'il y a 3 pixels de valeur 0, 5 pixels de valeur 1 et 10 pixels de valeur 2, _etc_.\n"
   ]
  },
  {
   "cell_type": "code",
   "execution_count": null,
   "metadata": {},
   "outputs": [],
   "source": []
  },
  {
   "cell_type": "markdown",
   "metadata": {},
   "source": [
    "# Exercice 2: étirement d'histogramme\n",
    "## 2.1 Étirement \n",
    "Écrire la fonction <tt>etire()</tt> qui prend un histogramme et retourne un tableau (une liste Python) des correspondance entre niveaux de gris avant et après étirement. L'histogramme doit être étiré sur la dynamique la plus grande, c'est-à-dire [0,255]. Si <tt>table</tt> est la liste retournée et si <tt>table[0]</tt> vaut 2, cela signifie que les pixels ayant le niveau de gris 0 auront alors la valeur 2 après étirement de l'histogramme. Indication: utiliser une des fonctions d'arrondis (<tt>floor</tt>, <tt>ceil</tt>, ...) du module Python <tt>math</tt>"
   ]
  },
  {
   "cell_type": "code",
   "execution_count": 2,
   "metadata": {},
   "outputs": [],
   "source": [
    "from math import ceil\n",
    "def etire(his):\n",
    "    \"\"\" list[int] -> list[int] \"\"\""
   ]
  },
  {
   "cell_type": "markdown",
   "metadata": {},
   "source": [
    "## 2.2 Changement des valeurs de l'image\n",
    "Écrire la fonction <tt>applique()</tt> qui applique la table obtenue par la fonction <tt>etire()</tt> à la liste des valeurs de l'image pour former une nouvelle image son histogramme étiré."
   ]
  },
  {
   "cell_type": "code",
   "execution_count": 3,
   "metadata": {},
   "outputs": [],
   "source": [
    "def applique(data,table):\n",
    "    \"\"\" list[int]*list[int] -> list[int] \"\"\""
   ]
  },
  {
   "cell_type": "markdown",
   "metadata": {},
   "source": [
    "## 2.3 Application\n",
    "Mettre en oeuvre les fonctions précédentes sur les images mises à votre disposition. Visualisez le résultat à l'aide de la fonction <tt>viewImage()</tt>.\n",
    "Attention: certaines images ont déjà un histogramme étiré ! Comment le vérifier ? (répondre en commentaire dans le code Python ci-dessous)."
   ]
  },
  {
   "cell_type": "code",
   "execution_count": 4,
   "metadata": {},
   "outputs": [],
   "source": [
    "## certaines images sont déjà étirées car ..."
   ]
  },
  {
   "cell_type": "markdown",
   "metadata": {},
   "source": [
    "# Exercice 3: seuillage d'images\n",
    "## 3.1 Fonction de seuillage\n",
    "Écrire la fonction <tt>seuillage()</tt> qui prend une liste de pixels <tt>data</tt>, un paramètre de seuil <tt>t</tt>. La liste de valeurs retournées sera consitituée d'une liste de valeur à 0 (pour les valeurs en dessous du seuil <tt>t</tt>) ou 255 (pour les autres valeurs).\n"
   ]
  },
  {
   "cell_type": "code",
   "execution_count": 5,
   "metadata": {},
   "outputs": [],
   "source": [
    "def seuillage(data,t):\n",
    "    \"\"\" list[int]*int -> list[int] \"\"\""
   ]
  },
  {
   "cell_type": "markdown",
   "metadata": {},
   "source": [
    "## 3.2 Application\n",
    "Appliquer la fonction de seuillage à différentes images et faire varier le seuil. Utiliser la fonction <tt>viewImage()</tt> pour visualiser ces opérations de seuillage."
   ]
  },
  {
   "cell_type": "code",
   "execution_count": null,
   "metadata": {},
   "outputs": [],
   "source": []
  },
  {
   "cell_type": "markdown",
   "metadata": {},
   "source": [
    "# Exercice 4: égalisation d'histogramme \n",
    "## 4.1 Egalisation\n",
    "Écrire la fonction <tt>egalisation()</tt> qui prend un histogramme, applique une égalisation d'histogramme et retourne la table des correspondances entre niveaux de gris avant et après égalisation. On rappelle la formule d'égalisation vue en cours: $k' = Int\\left(\\frac{L-1}{N \\times M}H_c(k)\\right)$ où $H_c$ est l'histogramme cumulé, $N\\times M$ la taille de l'image et $L$ la dynamique de l'image."
   ]
  },
  {
   "cell_type": "code",
   "execution_count": 6,
   "metadata": {},
   "outputs": [],
   "source": [
    "def egalisation(his):\n",
    "    \"\"\" list[int] -> list[int] \"\"\""
   ]
  },
  {
   "cell_type": "markdown",
   "metadata": {},
   "source": [
    "## 4.2 Application\n",
    "Écrire un code Python qui lit une image, réalise son égalisation d'histogramme et affiche la nouvelle image égalisée."
   ]
  },
  {
   "cell_type": "code",
   "execution_count": 77,
   "metadata": {},
   "outputs": [],
   "source": []
  }
 ],
 "metadata": {
  "kernelspec": {
   "display_name": "Python 3",
   "language": "python",
   "name": "python3"
  },
  "language_info": {
   "codemirror_mode": {
    "name": "ipython",
    "version": 3
   },
   "file_extension": ".py",
   "mimetype": "text/x-python",
   "name": "python",
   "nbconvert_exporter": "python",
   "pygments_lexer": "ipython3",
   "version": "3.7.2"
  }
 },
 "nbformat": 4,
 "nbformat_minor": 2
}
