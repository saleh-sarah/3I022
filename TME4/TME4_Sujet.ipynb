{
 "cells": [
  {
   "cell_type": "markdown",
   "metadata": {},
   "source": [
    "# TME 4 : Premiers filtres"
   ]
  },
  {
   "cell_type": "markdown",
   "metadata": {},
   "source": [
    "> Consignes: le fichier TME4_Sujet.ipynb est à déposer sur le site Moodle de l'UE https://moodle-sciences.upmc.fr/moodle-2018/course/view.php?id=4650. Si vous êtes en binôme, renommez-le en TME4_nom1_nom2.ipynb."
   ]
  },
  {
   "cell_type": "code",
   "execution_count": 3,
   "metadata": {},
   "outputs": [],
   "source": [
    "# Chargement des modules et des données utiles.\n",
    "\n",
    "from PIL import Image\n",
    "import matplotlib.pyplot as plt\n",
    "import numpy as np\n",
    "import math\n",
    "import scipy.signal\n",
    "\n",
    "image_cameraman = np.array(Image.open(\"images/cameraman.png\"))\n",
    "image_cameraman_bruit_impuls = np.array(Image.open(\"images/cameraman_salt_peper_3pct.png\")) # L'image du cameraman avec un bruit poivre et sel (3% des pixels) \n",
    "image_cameraman_bruit_gauss = np.array(Image.open(\"images/cameraman_gauss_noise.png\")) # L'image du cameraman avec un bruit gaussien centré (Variance 0.01)\n",
    "image_rectangle = np.array(Image.open(\"images/rectangle.png\"))\n",
    "image_bateau = np.array(Image.open(\"images/boat.png\"))\n",
    "image_bateau_bruit_impuls = np.array(Image.open(\"images/boat_salt_peper_5pct.png\")) # L'image du bateau avec un bruit poivre et sel (5% des pixels) \n",
    "image_bateau_bruit_gauss = np.array(Image.open(\"images/boat_gauss_noise.png\")) # L'image du bateau avec un bruit gaussien centré (Variance 0.03)\n",
    "\n",
    "def affichage_comparaison(image_non_bruite, image_debruitee, image_bruitee):\n",
    "    s1 = plt.subplot(131)\n",
    "    s1.set_title(\"Non bruitée\")\n",
    "    s1.imshow(image_non_bruite, cmap=\"gray\",interpolation='nearest', aspect='equal')\n",
    "    s2 = plt.subplot(132)\n",
    "    s2.set_title(\"Débruitée\")\n",
    "    s2.imshow(image_debruitee, cmap=\"gray\",interpolation='nearest', aspect='equal')\n",
    "    s3 = plt.subplot(133)\n",
    "    s3.set_title(\"Bruitée\")\n",
    "    s3.imshow(image_bruitee, cmap=\"gray\",interpolation='nearest', aspect='equal')\n",
    "\n",
    "    agrandissement = 3\n",
    "    params = plt.gcf()\n",
    "    plSize = params.get_size_inches()\n",
    "    params.set_size_inches( (plSize[0]*agrandissement, plSize[1]*agrandissement) )\n",
    "    plt.show()"
   ]
  },
  {
   "cell_type": "markdown",
   "metadata": {},
   "source": [
    "## Partie 1 : Convolution d'une image par un filtre\n",
    "\n",
    "Dans cette partie, on écrira une fonction pour réaliser la convolution linéaire d'une image en niveau de gris par un filtre. Cette fonction sera utile dans la partie 2 pour le filtre moyenneur et pour les séances de TME suivantes."
   ]
  },
  {
   "cell_type": "markdown",
   "metadata": {},
   "source": [
    "### Exercice 1.1 : Padding d'une image\n",
    "\n",
    "Un padding de l'image est la première étape nécessaire pour réaliser une convolution linéaire. Elle consiste à ajouter N lignes et colonnes de pixels de valeur 0 autour de l'image pour un filtre de taille 2N+1.\n",
    "\n",
    "**A faire**: Complétez la fonction <tt>adding_image(image, N)</tt>.\n",
    "\n",
    "Rappel: la taille d'une matrice <tt>M</tt> est donnée par <tt>M.shape</tt>"
   ]
  },
  {
   "cell_type": "code",
   "execution_count": 9,
   "metadata": {},
   "outputs": [],
   "source": [
    "def padding_image(image, N):  \n",
    "    \"\"\" Array*int -> Array \n",
    "    Réalise un zéro padding d'une image.\n",
    "    \"\"\"\n",
    "    "
   ]
  },
  {
   "cell_type": "markdown",
   "metadata": {},
   "source": [
    "Vous pouvez tester la fonction <tt>padding_image()</tt> avec la cellule suivante: vérifiez que la taille de l'image obtenue a les bonnes dimensions."
   ]
  },
  {
   "cell_type": "code",
   "execution_count": 10,
   "metadata": {},
   "outputs": [
    {
     "ename": "AttributeError",
     "evalue": "'NoneType' object has no attribute 'shape'",
     "output_type": "error",
     "traceback": [
      "\u001b[0;31m---------------------------------------------------------------------------\u001b[0m",
      "\u001b[0;31mAttributeError\u001b[0m                            Traceback (most recent call last)",
      "\u001b[0;32m<ipython-input-10-f899bd688c08>\u001b[0m in \u001b[0;36m<module>\u001b[0;34m\u001b[0m\n\u001b[1;32m      1\u001b[0m \u001b[0mimage_cameraman_pad\u001b[0m \u001b[0;34m=\u001b[0m \u001b[0mpadding_image\u001b[0m\u001b[0;34m(\u001b[0m\u001b[0mimage_cameraman\u001b[0m\u001b[0;34m,\u001b[0m\u001b[0;36m5\u001b[0m\u001b[0;34m)\u001b[0m\u001b[0;34m\u001b[0m\u001b[0;34m\u001b[0m\u001b[0m\n\u001b[0;32m----> 2\u001b[0;31m \u001b[0mprint\u001b[0m\u001b[0;34m(\u001b[0m\u001b[0mimage_cameraman_pad\u001b[0m\u001b[0;34m.\u001b[0m\u001b[0mshape\u001b[0m\u001b[0;34m)\u001b[0m\u001b[0;34m\u001b[0m\u001b[0;34m\u001b[0m\u001b[0m\n\u001b[0m\u001b[1;32m      3\u001b[0m \u001b[0;34m\u001b[0m\u001b[0m\n\u001b[1;32m      4\u001b[0m \u001b[0;34m\u001b[0m\u001b[0m\n\u001b[1;32m      5\u001b[0m \u001b[0mplt\u001b[0m\u001b[0;34m.\u001b[0m\u001b[0mimshow\u001b[0m\u001b[0;34m(\u001b[0m\u001b[0mimage_cameraman_pad\u001b[0m\u001b[0;34m,\u001b[0m \u001b[0mcmap\u001b[0m\u001b[0;34m=\u001b[0m\u001b[0;34m\"gray\"\u001b[0m\u001b[0;34m)\u001b[0m\u001b[0;34m\u001b[0m\u001b[0;34m\u001b[0m\u001b[0m\n",
      "\u001b[0;31mAttributeError\u001b[0m: 'NoneType' object has no attribute 'shape'"
     ]
    }
   ],
   "source": [
    "image_cameraman_pad = padding_image(image_cameraman,5)\n",
    "print(image_cameraman_pad.shape)\n",
    "\n",
    "\n",
    "plt.imshow(image_cameraman_pad, cmap=\"gray\")\n",
    "agrandissement = 2\n",
    "params = plt.gcf()\n",
    "plSize = params.get_size_inches()\n",
    "params.set_size_inches( (plSize[0]*agrandissement, plSize[1]*agrandissement) )\n",
    "plt.show()"
   ]
  },
  {
   "cell_type": "markdown",
   "metadata": {},
   "source": [
    "### Exercice 1.2 : Écriture de la fonction de convolution\n",
    "\n",
    "Dans cette partie, on écrira une fonction <tt>convolution(image, filtre)</tt> qui calcule la convolution linéaire d'une image par un filtre. On utilisera la fonction <tt>padding_image()</tt> comme première étape.\n",
    "\n",
    "On supposera que le filtre est un tableau de taille $(2N+1) \\times (2N+1)$. \n",
    "\n",
    "PS: Il existe dans plusieurs modules Python des fonctions plus efficaces pour calculer un produit de convolution mais on s'interdira de les utiliser !\n",
    "\n",
    "**À faire:** Complétez la fonction <tt>convolution(image, filtre)</tt>."
   ]
  },
  {
   "cell_type": "code",
   "execution_count": null,
   "metadata": {},
   "outputs": [],
   "source": [
    "def convolution(image, filtre):\n",
    "    \"\"\" Array*Array -> Array \n",
    "        retourne la convolution linéaire de image par filtre\n",
    "    \"\"\""
   ]
  },
  {
   "cell_type": "markdown",
   "metadata": {},
   "source": [
    "Vous pouvez contrôler le bon fonctionnement de votre fonction en vérifiant qu'elle donne le même résultat que la fonction <tt>convolve2d()</tt> du module Scipy. La norme de la différence doit être proche de 0."
   ]
  },
  {
   "cell_type": "code",
   "execution_count": null,
   "metadata": {},
   "outputs": [],
   "source": [
    "filtre_test = np.array([[1,2,3],[4,5,6],[7,8,9]])\n",
    "print(\"Norme de la différence: \" + str(np.linalg.norm(convolution(image_cameraman, filtre_test) - scipy.signal.convolve2d(image_cameraman, filtre_test, mode = 'same'))))\n"
   ]
  },
  {
   "cell_type": "markdown",
   "metadata": {},
   "source": [
    "## Partie 2 : Réduction de bruit par filtrage linéaire: le filtre moyenneur\n",
    "\n",
    "Dans cette partie, on réalisera le filtrage d'une image par des filtres moyenneurs de plusieurs tailles."
   ]
  },
  {
   "cell_type": "markdown",
   "metadata": {},
   "source": [
    "### Exercice 2.1 : Écriture de la fonction qui réalise le filtre moyenneur\n",
    "\n",
    "**À faire:** Complétez la fonction <tt>filtre_moyenneur(image, N)</tt> où $N$ correspond à un filtre moyenneurde taille $N\\times N$. Vous utiliserez la fonction <tt>convolution()</tt> écrite à l'exercice précédent."
   ]
  },
  {
   "cell_type": "code",
   "execution_count": 11,
   "metadata": {},
   "outputs": [],
   "source": [
    "def filtre_moyenneur(image, N):\n",
    "    \"\"\" Array*int -> Array\n",
    "        retourne l'image filtré par le filtre moyenneur de taille NxN\n",
    "    \"\"\"\n",
    "\n",
    "    return image_filtree\n",
    "    "
   ]
  },
  {
   "cell_type": "markdown",
   "metadata": {},
   "source": [
    "### Exercice 2.2 : Étude du filtre moyenneur sur une image de synthèse\n",
    "\n",
    "On appliquera ici des filtres moyenneurs de différentes tailles de fenêtre sur l'image image_rectangle.\n",
    "\n",
    "On affichera les images avant et après filtrage. On tracera également la ligne du milieu de l'image.\n",
    "\n",
    "**À faire**: Afficher les images et les lignes millieu avant et après filtrage pour des filtres de taille $3\\times3$, $9\\times9$ et $21\\times21$\n",
    "\n",
    "Que conclure sur l'effet du filtre sur les contours ?"
   ]
  },
  {
   "cell_type": "code",
   "execution_count": null,
   "metadata": {},
   "outputs": [],
   "source": [
    "image_rectangle_filtre = filtre_moyenneur(image_rectangle, 21)\n",
    "\n",
    "    \n",
    "ligne_millieu = image_rectangle[0:299,150]\n",
    "ligne_millieu_filtre = image_rectangle_filtre[0:299,150]\n",
    "\n",
    "plt.subplot(121)\n",
    "plt.imshow(image_rectangle, cmap=\"gray\")\n",
    "plt.subplot(122)\n",
    "plt.imshow(image_rectangle_filtre, cmap=\"gray\")\n",
    "\n",
    "agrandissement = 2\n",
    "params = plt.gcf()\n",
    "plSize = params.get_size_inches()\n",
    "params.set_size_inches( (plSize[0]*agrandissement, plSize[1]*agrandissement) )\n",
    "plt.show()\n",
    "\n",
    "plt.subplot(121)\n",
    "plt.plot(ligne_millieu)\n",
    "plt.subplot(122)\n",
    "plt.plot(ligne_millieu_filtre)\n",
    "\n",
    "\n",
    "\n",
    "plt.show()"
   ]
  },
  {
   "cell_type": "markdown",
   "metadata": {},
   "source": [
    "### Exercice 2.3 : Utilisation du filtre moyenneur pour le débruitage\n",
    "\n",
    "Dans cette partie, on utilise le filtre moyenneur pour réduire le bruit de l'image <tt>image_cameraman_bruit_impuls</tt>.\n",
    "\n",
    "**À faire:** Testez les filtres avec des fenêtres $3\\times3$, $5\\times5$ et $9\\times9$. Que remarquez vous ?\n",
    "\n",
    "Même question pour l'image <tt>image_cameraman_bruit_gauss</tt>."
   ]
  },
  {
   "cell_type": "code",
   "execution_count": null,
   "metadata": {},
   "outputs": [],
   "source": []
  },
  {
   "cell_type": "markdown",
   "metadata": {},
   "source": [
    "## Partie 3 : Réduction de bruit par filtrage non linéaire: le filtre médian\n",
    "\n",
    "Dans cette partie, on cherchera à filtrer le bruit d'une image en utilisant un filtre médian. On rappelle que le filtre médian remplace chaque pixel par la valeur médiane dans son voisinage.\n",
    "\n",
    "### Exercice 3.1: Implémentation du filtre médian\n",
    "\n",
    "**À faire**: Implémentez le filtre médian pour une fenêtre de taille $N\\times N$ variable. \n",
    "\n",
    "On utilisera un padding linéaire de l'image pour adapter les dimensions de l'image. Vous pouvez écrire une fonction utilisant un tri. Il est interdit d'utiliser des filtres médians déjà implémenté dans les modules Python.\n",
    "\n",
    "On supposera que le voisinnage du pixel est un carré de coté impaire, centré en ce pixel.\n"
   ]
  },
  {
   "cell_type": "code",
   "execution_count": null,
   "metadata": {},
   "outputs": [],
   "source": [
    "def filtre_median(image, N):\n",
    "        \"\"\" Array*int -> Array\n",
    "            retourne l'image filtré par un médian de taille N\n",
    "        \"\"\""
   ]
  },
  {
   "cell_type": "markdown",
   "metadata": {},
   "source": [
    "Vérification: vous pouvez vérifier votre fonction en le comparant le résultat à celui obtenu avec le filtre médian de scipy. La norme de la différence doit être proche de 0."
   ]
  },
  {
   "cell_type": "code",
   "execution_count": null,
   "metadata": {},
   "outputs": [],
   "source": [
    "np.linalg.norm(filtre_median(image_cameraman, 5) - scipy.ndimage.filters.median_filter(image_cameraman, size=(5, 5), mode='constant'))"
   ]
  },
  {
   "cell_type": "markdown",
   "metadata": {
    "collapsed": true
   },
   "source": [
    "### Exercice 3.2 : Utilisation du filtre médian pour le débruitage\n",
    "\n",
    "Appliquez le filtre médian à l'image <tt>image_cameraman_bruit_gauss</tt> et à l'image <tt>image_cameraman_bruit_impuls</tt> en utilisant des fenetres de différentes tailles, par exemple $3\\times3$, $9\\times9$ et $21\\times21$. Que remarquez vous ? Comparez le résultat avec celui obtenu avec le filtre moyenneur. Que concluez vous ?"
   ]
  },
  {
   "cell_type": "code",
   "execution_count": null,
   "metadata": {},
   "outputs": [],
   "source": [
    "\n"
   ]
  }
 ],
 "metadata": {
  "anaconda-cloud": {},
  "kernelspec": {
   "display_name": "Python 3",
   "language": "python",
   "name": "python3"
  },
  "language_info": {
   "codemirror_mode": {
    "name": "ipython",
    "version": 3
   },
   "file_extension": ".py",
   "mimetype": "text/x-python",
   "name": "python",
   "nbconvert_exporter": "python",
   "pygments_lexer": "ipython3",
   "version": "3.7.2"
  }
 },
 "nbformat": 4,
 "nbformat_minor": 1
}
