{
 "cells": [
  {
   "cell_type": "markdown",
   "metadata": {},
   "source": [
    "# TME 7 : Détection d'objets simples (II) :"
   ]
  },
  {
   "cell_type": "markdown",
   "metadata": {},
   "source": [
    "> Consignes: le fichier TME7_Sujet.ipynb est à déposer sur le site Moodle de l'UE https://moodle-sciences.upmc.fr/moodle-2018/course/view.php?id=4650. Si vous êtes en binôme, renommez-le en TME7_nom1_nom2.ipynb.\n",
    "\n",
    "N'oubliez pas de sauvegarder fréquemment votre notebook !! ...\n",
    "\n",
    "Pour chaque questions, écrivez des commentaires brefs et concis lorsque demandé dans les cases **Commentaires**."
   ]
  },
  {
   "cell_type": "code",
   "execution_count": 1,
   "metadata": {},
   "outputs": [],
   "source": [
    "### Chargement des modules et des données utiles.\n",
    "\n",
    "from PIL import Image\n",
    "from pylab import *\n",
    "from scipy.signal import convolve2d\n",
    "from skimage import morphology\n",
    "from time import process_time\n",
    "\n",
    "### charger les images et les convertir en tableaux Numpy\n",
    "rectangle = array(Image.open(\"images/rectangle.png\"))/255\n",
    "\n",
    "carrelage = array(Image.open(\"images/carrelage_wikipedia.jpg\"))/255\n",
    "jussieu = array(Image.open(\"images/Jussieu_wikipedia.jpg\"))/255\n",
    "house = array(Image.open(\"images/house2.jpg\"))/255\n",
    "#rotate = array(Image.open(\"images/rotate.png\"))\n",
    "table = array(Image.open(\"images/table.png\"))/255\n",
    "chaise = array(Image.open(\"images/chaise.png\"))/255\n",
    "\n",
    "### image synthétique pour mise au point\n",
    "def image_contours_ligne_simple():\n",
    "    \"\"\" NoneType -> Array\n",
    "    Construit une image de contours seuillée de taille 500x500 avec une ligne.\n",
    "    \"\"\"\n",
    "    image_contours = zeros((500,500))\n",
    "    for t in range(200):\n",
    "        image_contours[ t + 100, t] = 1\n",
    "    return image_contours\n",
    "\n",
    "### Fonctions d'affichage\n",
    "def affichage_14(affichages,titres=None):\n",
    "    \"\"\" list[Array]*list[str] -> NoneType\n",
    "    Dffectue entre 1 et 4 affichages avec leurs titres, pour des images ou courbes\n",
    "    \n",
    "    Paramètres :\n",
    "      - liste des affichages (entre 1 et 4)\n",
    "      - liste des titres (entre 1 et 4, autant que de affichages), optionnelle    \n",
    "    \"\"\"\n",
    "    \n",
    "    if not type(affichages) == type([]):\n",
    "        affichages = [affichages]\n",
    "        \n",
    "    if titres is None:\n",
    "        titres = ['',]*len(affichages)\n",
    "        \n",
    "    if not type(titres) == type([]):\n",
    "        titres = [titres]\n",
    "    \n",
    "    nb_affichages = len(affichages)\n",
    "    if nb_affichages >4 or nb_affichages < 1 :\n",
    "        raise ValueError('affichage_14 nécéssite 1 à 4 entrées en paramètre')        \n",
    "        \n",
    "    if nb_affichages != len(titres):\n",
    "        raise ValueError('affichage_14 nécéssite autant de titres que d\\'affichages')\n",
    "        \n",
    "    courbes = False\n",
    "    for i in range(0,nb_affichages):\n",
    "        s = subplot(101+10*nb_affichages+i)\n",
    "        s.set_title(titres[i])\n",
    "        if len(affichages[i].shape)==2 and affichages[i].shape[0] > 1 and affichages[i].shape[1] > 1:\n",
    "            # on affiche une image\n",
    "            s.imshow(affichages[i], cmap=\"gray\",interpolation='nearest', aspect='equal')\n",
    "        else :\n",
    "            # il s'agit d'une seule ligne, à afficher comme une courbe\n",
    "            plot(affichages[i])\n",
    "            courbes=True\n",
    "\n",
    "    agrandissement_h = nb_affichages\n",
    "    agrandissement_v = nb_affichages*2 if courbes else nb_affichages\n",
    "    params = gcf()\n",
    "    plSize = params.get_size_inches()\n",
    "    params.set_size_inches( (plSize[0]*agrandissement_v, plSize[1]*agrandissement_h) )\n",
    "    show()\n",
    "\n",
    "\n",
    "def trace_image_et_cercles(image, liste_cercles):\n",
    "    \"\"\"\n",
    "    Array*list[tuple(int,int,int)] -> NoneType\n",
    "    Affichage supperposé d'une image et de cercles.\n",
    "    \"\"\"\n",
    "    fig, ax = subplots()\n",
    "    imshow(image, cmap=cm.gray)\n",
    "    for cercle in liste_cercles:\n",
    "        rayon = cercle[0]\n",
    "        X_c = cercle[2]\n",
    "        Y_c = cercle[1]\n",
    "        circle1 = Circle((X_c, Y_c),rayon,color='r', fill=False)\n",
    "        gcf().gca().add_artist(circle1)\n",
    "        \n",
    "    set_xlim((0, image.shape[1]))\n",
    "    set_ylim((image.shape[0], 0))\n",
    "    set_axis_off()\n",
    "    set_title('Cercles détectés')\n",
    "    show()\n",
    "\n",
    "### Fonctions de chronométrage\n",
    "mytime = 0\n",
    "def tic():\n",
    "    global mytime\n",
    "    mytime = process_time()\n",
    "def tac():\n",
    "    global mytime\n",
    "    print (process_time()-mytime)\n",
    "    mytime = process_time()\n"
   ]
  },
  {
   "cell_type": "markdown",
   "metadata": {},
   "source": [
    "## Exercice 1 — Transformée de Hough: détection de droites"
   ]
  },
  {
   "cell_type": "markdown",
   "metadata": {},
   "source": [
    "### Question 1 : Calcul de l'accumulateur à partir d'une image de contours, version boucle"
   ]
  },
  {
   "cell_type": "markdown",
   "metadata": {
    "scrolled": true
   },
   "source": [
    "On dispose d'une image de contours binarisée. On cherche à calculer la transformée de Hough correspondant.\n",
    "\n",
    "1. Écrire la fonction ```houghl()``` qui renvoie la transformée de Hough pour les droites de l'image de contours binarisée. On utilisera l'algorithme données en TD. \n",
    "\n",
    "La fonction prendra pour arguments:\n",
    "- l'image de contours: adges, \n",
    "- le nombre de pas pour $\\theta$: ``ntheta``,\n",
    "- le nombre de pas pour $\\rho$: ``nrho``,\n",
    "- la tolérance: ``tol`` (qui correspond au test $|x\\cos\\theta+y\\sin\\theta-\\rho|<tol$).\n",
    "\n",
    "**Conseil 1:** remplacer le parcours de l'image par une boucle sur les tableaux d'indices ``X`` et ``Y`` des valeurs non nulles de l'image. On utilisera pour cela la fonction Numpy ```nonzero()``` et la fonction Python ```zip()```. \n",
    "\n",
    "**Conseil 2:** le calcul des cosinus et sinus est coûteux. En remarquant que les 4 boucles imbriquées sont indépendantes les unes des autres et qu'on peut les permuter,  faire en sorte de ne calculer **qu'une seule fois** les valeurs cosinus et sinus pour chaque élément de l'accumulateur de Hough."
   ]
  },
  {
   "cell_type": "code",
   "execution_count": 2,
   "metadata": {},
   "outputs": [],
   "source": [
    "def houghl(I,ntheta,nrho,tol):\n",
    "    \"\"\" Array*int*int*float -> Array[int] \"\"\"\n",
    "    \n",
    "    def appartient_droite(x,y,cos_theta,sin_theta, rho,tol):\n",
    "        \"\"\"float[2]*float*float->boolean\"\"\"\n",
    "        return abs(cos_theta*x+sin_theta*y-rho)<tol\n",
    "\n",
    "    #Accumulateur H\n",
    "    H = np.zeros((ntheta,nrho))\n",
    "    \n",
    "    #Tableaux d'indices X et Y des valeurs non nulles de l'images à l'aide de la fonction nonzero de Numpy\n",
    "    Y,X = np.nonzero(I)\n",
    "    \n",
    "    #Définition de rho max\n",
    "    # l'angle theta varie entre 0 et Pi\n",
    "    #le parametre rho varient de facon a couvrir\n",
    "    # le domaine de l'image soit [-rmax,+rmax]\n",
    "    rmax := (I.dimxˆ2+I.dimyˆ2)ˆ0.5;\n",
    "    dimy,dimx = I.shape\n",
    "    rmax=math.sqrt(dimx**2+dimy**2)\n",
    "    \n",
    "    #Liste des valeurs prises par theta et rho avec les nombres de pas ntheta et nrho donnés\n",
    "    #linspace (valeurmin, valeurmax, nb de valeurs comprise entre min et max)\n",
    "    tab_theta=np.linspace(-math.pi/2,math.pi,ntheta)\n",
    "    tab_rho=np.linspace(0,rmax,nrho)\n",
    "    \n",
    "    #zip: assemble 1er élem de X avec 1er élem de Y 2e élem de X et 2e élem de Y etc...\n",
    "    for (y,x) in zip(Y,X):\n",
    "        for i_theta in range(ntheta):\n",
    "            \n",
    "            theta = tab_theta[i_theta]\n",
    "            cos_theta = math.cos(theta)\n",
    "            sin_theta = math.sin(theta)\n",
    "            \n",
    "            for i_rho in range(nrho):\n",
    "                rho = tab_rho[i_rho]\n",
    "                if I[y,x]>tol:\n",
    "                    if appartient_droite(x,y,cos_theta,sin_theta,rho,tol):\n",
    "                        H[i_theta][i_rho]+=1\n",
    "    return H\n"
   ]
  },
  {
   "cell_type": "markdown",
   "metadata": {},
   "source": [
    "2. Tester la fonction ```houghl()``` en l'appliquant à l'image de contours binarisée synthétique très simple générée par la fonction ```image_contours_ligne_simple()```. Afficher l'accumulateur de Hough. Chronométrez également le temps de calcul de la fonction ```hough()```, en prenant des valeurs différentes pour nt et nr. Rappel TD: idéalement nr vaut la longueur d'une diagonale de l'image à traiter et nt pourrait valoir 360 pour avoir une précision de 1 degré, dans un repère polaire. Conseil: essayer d'abord avec des valeurs nettement plus petites, puis augementer les et observer les temps de calcul. Donner un ordre de grandeur de la complexité de cet algorithme."
   ]
  },
  {
   "cell_type": "markdown",
   "metadata": {},
   "source": [
    "## Tests en fonction de ntheta"
   ]
  },
  {
   "cell_type": "markdown",
   "metadata": {},
   "source": [
    "*__Test avec ntheta = 360__*"
   ]
  },
  {
   "cell_type": "code",
   "execution_count": 3,
   "metadata": {},
   "outputs": [
    {
     "data": {
      "text/plain": [
       "<matplotlib.image.AxesImage at 0x1c189b2b70>"
      ]
     },
     "execution_count": 3,
     "metadata": {},
     "output_type": "execute_result"
    },
    {
     "data": {
      "image/png": "[encoded data removed]",
      "text/plain": [
       "<Figure size 864x432 with 1 Axes>"
      ]
     },
     "metadata": {
      "needs_background": "light"
     },
     "output_type": "display_data"
    }
   ],
   "source": [
    "I = image_contours_ligne_simple()\n",
    "\n",
    "dimy,dimx = I.shape\n",
    "\n",
    "#précisions en degré\n",
    "rho= 1.0\n",
    "theta=1.0\n",
    "\n",
    "#ntheta et nrho en fonction des précisions de rho et ntheta\n",
    "ntheta = int(360.0/theta)\n",
    "#idéalement, nrho vaut la longueur d'une diagonale de l'image\n",
    "#math.floor : le plus grand entier plus petit ou égal.\n",
    "nrho = int(math.floor(math.sqrt(dimx**2+dimy**2))/rho)\n",
    "\n",
    "#classe figure\n",
    "figure(figsize=(12,6))\n",
    "#cmap : palette de couleur\n",
    "imshow(houghl(I,ntheta,nrho,0.5),cmap=cm.gray)"
   ]
  },
  {
   "cell_type": "markdown",
   "metadata": {},
   "source": [
    "*__Test avec ntheta = 360/10__*"
   ]
  },
  {
   "cell_type": "code",
   "execution_count": 4,
   "metadata": {},
   "outputs": [
    {
     "data": {
      "text/plain": [
       "<matplotlib.image.AxesImage at 0x1c19f170f0>"
      ]
     },
     "execution_count": 4,
     "metadata": {},
     "output_type": "execute_result"
    },
    {
     "data": {
      "image/png": "[encoded data removed]",
      "text/plain": [
       "<Figure size 864x432 with 1 Axes>"
      ]
     },
     "metadata": {
      "needs_background": "light"
     },
     "output_type": "display_data"
    }
   ],
   "source": [
    "#précisions en degré\n",
    "rho= 1.0\n",
    "theta=10\n",
    "\n",
    "#ntheta et nrho en fonction des précisions de rho et ntheta\n",
    "ntheta = int(360.0/theta)\n",
    "#idéalement, nrho vaut la longueur d'une diagonale de l'image\n",
    "nrho = int(math.floor(math.sqrt(dimx**2+dimy**2))/rho)\n",
    "\n",
    "\n",
    "figure(figsize=(12,6))\n",
    "imshow(houghl(I,ntheta,nrho,0.5),cmap=cm.gray)"
   ]
  },
  {
   "cell_type": "markdown",
   "metadata": {},
   "source": [
    "*__Test avec ntheta = 360/5__*"
   ]
  },
  {
   "cell_type": "code",
   "execution_count": 5,
   "metadata": {},
   "outputs": [
    {
     "data": {
      "text/plain": [
       "<matplotlib.image.AxesImage at 0x1c19f70828>"
      ]
     },
     "execution_count": 5,
     "metadata": {},
     "output_type": "execute_result"
    },
    {
     "data": {
      "image/png": "[encoded data removed]",
      "text/plain": [
       "<Figure size 864x432 with 1 Axes>"
      ]
     },
     "metadata": {
      "needs_background": "light"
     },
     "output_type": "display_data"
    }
   ],
   "source": [
    "#précisions en degré\n",
    "rho= 1.0\n",
    "theta=5\n",
    "\n",
    "#ntheta et nrho en fonction des précisions de rho et ntheta\n",
    "ntheta = int(360.0/theta)\n",
    "#idéalement, nrho vaut la longueur d'une diagonale de l'image\n",
    "nrho = int(math.floor(math.sqrt(dimx**2+dimy**2))/rho)\n",
    "\n",
    "figure(figsize=(12,6))\n",
    "imshow(houghl(I,ntheta,nrho,0.5),cmap=cm.gray)"
   ]
  },
  {
   "cell_type": "markdown",
   "metadata": {},
   "source": [
    "*__Test avec ntheta = 360/2__*"
   ]
  },
  {
   "cell_type": "code",
   "execution_count": 6,
   "metadata": {},
   "outputs": [
    {
     "data": {
      "text/plain": [
       "<matplotlib.image.AxesImage at 0x1c1a093240>"
      ]
     },
     "execution_count": 6,
     "metadata": {},
     "output_type": "execute_result"
    },
    {
     "data": {
      "image/png": "[encoded data removed]",
      "text/plain": [
       "<Figure size 864x432 with 1 Axes>"
      ]
     },
     "metadata": {
      "needs_background": "light"
     },
     "output_type": "display_data"
    }
   ],
   "source": [
    "#précisions en degré\n",
    "rho= 1.0\n",
    "theta=2\n",
    "\n",
    "#ntheta et nrho en fonction des précisions de rho et ntheta\n",
    "ntheta = int(360.0/theta)\n",
    "#idéalement, nrho vaut la longueur d'une diagonale de l'image\n",
    "nrho = int(math.floor(math.sqrt(dimx**2+dimy**2))/rho)\n",
    "\n",
    "\n",
    "figure(figsize=(12,6))\n",
    "imshow(houghl(I,ntheta,nrho,0.5),cmap=cm.gray)"
   ]
  },
  {
   "cell_type": "markdown",
   "metadata": {},
   "source": [
    "__Test de complexité temporelle en fonction de ntheta:__"
   ]
  },
  {
   "cell_type": "code",
   "execution_count": 7,
   "metadata": {},
   "outputs": [],
   "source": [
    "I=image_contours_ligne_simple()\n",
    "\n",
    "#précisions en degré\n",
    "rho= 1.0\n",
    "\n",
    "#ntheta et nrho en fonction des précisions de rho et ntheta\n",
    "nrho = int(math.floor(math.sqrt(dimx**2+dimy**2))/rho)\n",
    "\n",
    "#Liste des valeurs prises par ntheta\n",
    "#reversed pour inverser et commencer à partir de 21\n",
    "tab_ntheta=[int(360.0/theta) for theta in reversed(range(2,22,2))]\n",
    "\n",
    "\n",
    "#Calcul du temps d'exécution\n",
    "\n",
    "temps=[]\n",
    "\n",
    "for ntheta in tab_ntheta:\n",
    "    start=process_time()\n",
    "    houghl(I,ntheta,nrho,0.5)\n",
    "    end=process_time()\n",
    "    temps.append(end-start)"
   ]
  },
  {
   "cell_type": "code",
   "execution_count": 8,
   "metadata": {},
   "outputs": [
    {
     "name": "stdout",
     "output_type": "stream",
     "text": [
      "[42.039372000000185, 45.78677199999993, 51.72890800000005, 68.54507600000011, 70.42632400000002, 83.91877599999998, 109.00631399999997, 148.6209060000001, 218.40792800000008, 434.841308]\n"
     ]
    }
   ],
   "source": [
    "print(temps)"
   ]
  },
  {
   "cell_type": "code",
   "execution_count": 9,
   "metadata": {
    "scrolled": true
   },
   "outputs": [
    {
     "data": {
      "image/png": "[encoded data removed]",
      "text/plain": [
       "<Figure size 432x288 with 1 Axes>"
      ]
     },
     "metadata": {
      "needs_background": "light"
     },
     "output_type": "display_data"
    }
   ],
   "source": [
    "plt.plot(temps)\n",
    "plt.title=('Temps d\\'exécution en fonction de ntheta')\n",
    "\n",
    "plt.show()"
   ]
  },
  {
   "cell_type": "code",
   "execution_count": null,
   "metadata": {},
   "outputs": [],
   "source": [
    "#Commentaire:\n",
    "\n",
    "#L'algorithme houghl varie exponentiellement en fonction de ntheta."
   ]
  },
  {
   "cell_type": "markdown",
   "metadata": {},
   "source": [
    "### Tests en fonction de nrho"
   ]
  },
  {
   "cell_type": "markdown",
   "metadata": {},
   "source": [
    "`nrho = int(math.floor(math.sqrt(dimx ** 2+dimy ** 2)) = 707`"
   ]
  },
  {
   "cell_type": "markdown",
   "metadata": {},
   "source": [
    "__Test avec nrho = 707__"
   ]
  },
  {
   "cell_type": "code",
   "execution_count": 10,
   "metadata": {},
   "outputs": [
    {
     "data": {
      "text/plain": [
       "<matplotlib.image.AxesImage at 0x1c1a4cd390>"
      ]
     },
     "execution_count": 10,
     "metadata": {},
     "output_type": "execute_result"
    },
    {
     "data": {
      "image/png": "[encoded data removed]",
      "text/plain": [
       "<Figure size 864x432 with 1 Axes>"
      ]
     },
     "metadata": {
      "needs_background": "light"
     },
     "output_type": "display_data"
    }
   ],
   "source": [
    "#précisions en degré\n",
    "rho= 1.0\n",
    "theta=1.0\n",
    "\n",
    "#ntheta et nrho en fonction des précisions de rho et ntheta\n",
    "ntheta = int(360.0/theta)\n",
    "#idéalement, nrho vaut la longueur d'une diagonale de l'image\n",
    "nrho = int(math.floor(math.sqrt(dimx**2+dimy**2))/rho)\n",
    "\n",
    "\n",
    "figure(figsize=(12,6))\n",
    "imshow(houghl(I,ntheta,nrho,0.5),cmap=cm.gray)"
   ]
  },
  {
   "cell_type": "markdown",
   "metadata": {},
   "source": [
    "__Test avec nrho = 707/10__"
   ]
  },
  {
   "cell_type": "code",
   "execution_count": 11,
   "metadata": {},
   "outputs": [
    {
     "data": {
      "text/plain": [
       "<matplotlib.image.AxesImage at 0x1c1a92f5f8>"
      ]
     },
     "execution_count": 11,
     "metadata": {},
     "output_type": "execute_result"
    },
    {
     "data": {
      "image/png": "[encoded data removed]",
      "text/plain": [
       "<Figure size 864x432 with 1 Axes>"
      ]
     },
     "metadata": {
      "needs_background": "light"
     },
     "output_type": "display_data"
    }
   ],
   "source": [
    "#précisions en degré\n",
    "rho= 10.0\n",
    "theta=1.0\n",
    "\n",
    "#ntheta et nrho en fonction des précisions de rho et ntheta\n",
    "ntheta = int(360.0/theta)\n",
    "#idéalement, nrho vaut la longueur d'une diagonale de l'image\n",
    "nrho = int(math.floor(math.sqrt(dimx**2+dimy**2))/rho)\n",
    "\n",
    "\n",
    "figure(figsize=(12,6))\n",
    "imshow(houghl(I,ntheta,nrho,0.5),cmap=cm.gray)"
   ]
  },
  {
   "cell_type": "markdown",
   "metadata": {},
   "source": [
    "__Test avec nrho = 707/5__"
   ]
  },
  {
   "cell_type": "code",
   "execution_count": 12,
   "metadata": {},
   "outputs": [
    {
     "data": {
      "text/plain": [
       "<matplotlib.image.AxesImage at 0x1c1ababb00>"
      ]
     },
     "execution_count": 12,
     "metadata": {},
     "output_type": "execute_result"
    },
    {
     "data": {
      "image/png": "[encoded data removed]",
      "text/plain": [
       "<Figure size 864x432 with 1 Axes>"
      ]
     },
     "metadata": {
      "needs_background": "light"
     },
     "output_type": "display_data"
    }
   ],
   "source": [
    "#précisions en degré\n",
    "rho= 5.0\n",
    "theta=1.0\n",
    "\n",
    "#ntheta et nrho en fonction des précisions de rho et ntheta\n",
    "ntheta = int(360.0/theta)\n",
    "#idéalement, nrho vaut la longueur d'une diagonale de l'image\n",
    "nrho = int(math.floor(math.sqrt(dimx**2+dimy**2))/rho)\n",
    "\n",
    "\n",
    "figure(figsize=(12,6))\n",
    "imshow(houghl(I,ntheta,nrho,0.5),cmap=cm.gray)"
   ]
  },
  {
   "cell_type": "markdown",
   "metadata": {},
   "source": [
    "__Test avec nrho = 707/2__"
   ]
  },
  {
   "cell_type": "code",
   "execution_count": 13,
   "metadata": {},
   "outputs": [
    {
     "data": {
      "text/plain": [
       "<matplotlib.image.AxesImage at 0x1c1ac6e550>"
      ]
     },
     "execution_count": 13,
     "metadata": {},
     "output_type": "execute_result"
    },
    {
     "data": {
      "image/png": "[encoded data removed]",
      "text/plain": [
       "<Figure size 864x432 with 1 Axes>"
      ]
     },
     "metadata": {
      "needs_background": "light"
     },
     "output_type": "display_data"
    }
   ],
   "source": [
    "#précisions en degré\n",
    "rho= 2.0\n",
    "theta=1.0\n",
    "\n",
    "#ntheta et nrho en fonction des précisions de rho et ntheta\n",
    "ntheta = int(360.0/theta)\n",
    "#idéalement, nrho vaut la longueur d'une diagonale de l'image\n",
    "nrho = int(math.floor(math.sqrt(dimx**2+dimy**2))/rho)\n",
    "\n",
    "\n",
    "figure(figsize=(12,6))\n",
    "imshow(houghl(I,ntheta,nrho,0.5),cmap=cm.gray)"
   ]
  },
  {
   "cell_type": "markdown",
   "metadata": {},
   "source": [
    "__Test de complexité temporelle en fonction de nrho:__"
   ]
  },
  {
   "cell_type": "code",
   "execution_count": 14,
   "metadata": {},
   "outputs": [],
   "source": [
    "I=image_contours_ligne_simple()\n",
    "\n",
    "#précisions en degré\n",
    "theta= 1.0\n",
    "\n",
    "#ntheta et nrho en fonction des précisions de rho et ntheta\n",
    "ntheta = int(360.0/theta)\n",
    "\n",
    "#Liste des valeurs prises par ntheta\n",
    "tab_nrho=[int(math.floor(math.sqrt(dimx**2+dimy**2))/rho) for rho in reversed(range(2,22,2))]\n",
    "\n",
    "\n",
    "#Calcul du temps d'exécution\n",
    "\n",
    "temps=[]\n",
    "\n",
    "for nrho in tab_nrho:\n",
    "    start=process_time()\n",
    "    houghl(I,ntheta,nrho,0.5)\n",
    "    end=process_time()\n",
    "    temps.append(end-start)"
   ]
  },
  {
   "cell_type": "code",
   "execution_count": 15,
   "metadata": {},
   "outputs": [
    {
     "name": "stdout",
     "output_type": "stream",
     "text": [
      "[55.25551799999994, 54.843893999999636, 55.9818580000001, 72.73838199999955, 93.26245600000038, 100.3593920000003, 106.36467999999968, 141.60037399999965, 220.1032640000003, 461.7585859999999]\n"
     ]
    }
   ],
   "source": [
    "print(temps)"
   ]
  },
  {
   "cell_type": "code",
   "execution_count": 16,
   "metadata": {},
   "outputs": [
    {
     "data": {
      "image/png": "[encoded data removed]",
      "text/plain": [
       "<Figure size 432x288 with 1 Axes>"
      ]
     },
     "metadata": {
      "needs_background": "light"
     },
     "output_type": "display_data"
    }
   ],
   "source": [
    "\n",
    "plt.plot(temps)\n",
    "plt.title=('Temps d\\'exécution en fonction de nrho')\n",
    "\n",
    "plt.show()"
   ]
  },
  {
   "cell_type": "code",
   "execution_count": null,
   "metadata": {},
   "outputs": [],
   "source": [
    "#Commentaire:\n",
    "\n",
    "#L'algorithme houghl varie également exponentiellement en fonction de nrho."
   ]
  },
  {
   "cell_type": "markdown",
   "metadata": {},
   "source": [
    "### Question 2: optimisation de la fonction ``houghl()``\n",
    "\n",
    "Vous avez du constater que le temps de calcul est très long et cela même pour une image très simple. Le temps dépend donc largement des valeurs ```ntheta``` et ```nrho```.\n",
    "Puisque les 4 boucles de l'algorithme (boucles sur indice de ligne, de colonne de l'image de contours à traiter, d'angle et de distance à l'origine) sont indépendantes, on peut imbriquer les parcours sur l'image à l'intérieur du parcours de l'accumulateur de Hough.\n",
    "\n",
    "On pourra alors constater qu'il revient au même de calculer à l'avance les différentes valeurs de $\\rho$ et $\\theta$ et de les placer dans des tableaux. En effet, écrire :\n",
    "````\n",
    "for r in range(nrho):\n",
    "    for t in range(ntheta):\n",
    "       calcul sur t, indépendemment de r\n",
    "       calcul sur r, indépendemment de t\n",
    "````\n",
    "revient à écrire:\n",
    "`````\n",
    "for r in range(nrho):\n",
    "    for t in range(ntheta):\n",
    "        CT[r,t] = f(t)\n",
    "        CR[r,t] = g(r)\n",
    "`````\n",
    "Le calcul des tableaux ``CT`` et ``CR`` peut-être effectué uniquement par appel Numpy **sans utiliser de boucle**: le tableau ``CT`` voit chacune de ses colonnes **identiques** et ``CR`` ses lignes **identiques**. \n",
    "\n",
    "1. En utilisant à bon escient les fonctions ``ones()`` et ```linspace()```, puis facultativement ```meshgrid()```, ou encore plus simplement en gardant les boucles, construire les tableaux ```R```, ```C``` et ```S```. Chaque ligne du tableau ```R``` décrit les mêmes suites de valeurs de $\\rho$. Chaque colonne des tableaux ```C``` et ```S``` décrivent les mêmes suites de valeurs de $\\cos\\theta$ et $\\sin\\theta$. On rappelle que $\\rho$ et $\\theta$ vérifient l'équation $x\\cos\\theta + y\\sin\\theta = \\rho$  pour $x$ et $y$ les coordonnées d'un point de contours dans l'image. Pour la version boucle, quelle est la complexité ? Est-elle acceptable pour un script Python ?"
   ]
  },
  {
   "cell_type": "code",
   "execution_count": 37,
   "metadata": {},
   "outputs": [],
   "source": [
    "I=image_contours_ligne_simple()\n",
    "\n",
    "dimy,dimx = I.shape\n",
    "\n",
    "#précisions en degré\n",
    "rho= 1.0\n",
    "theta=1.0\n",
    "\n",
    "#ntheta et nrho en fonction des précisions de rho et theta\n",
    "ntheta = int(360.0/theta)\n",
    "#idéalement, nrho vaut la longueur d'une diagonale de l'image\n",
    "nrho = int(math.floor(math.sqrt(dimx**2+dimy**2))/rho)\n",
    "\n",
    "rmax=math.sqrt(dimx**2+dimy**2)\n",
    "\n",
    "\n",
    "#Construction de R en fonction de nrho et ntheta\n",
    "ligne_rho=np.linspace(0,rmax,nrho)\n",
    "R=np.ones((ntheta,nrho))\n",
    "for ligne in range(len(R)):\n",
    "    R[ligne]=ligne_rho\n",
    "\n",
    "#Construction de ligne_theta la liste des valeurs de theta\n",
    "ligne_theta=np.linspace(-math.pi/2,math.pi,ntheta)\n",
    "\n",
    "#Construction de C et S en fonction de R\n",
    "cos_theta=np.cos(ligne_theta)\n",
    "sin_theta=np.sin(ligne_theta)\n",
    "\n",
    "colonne_C = [[ct] for ct in cos_theta]\n",
    "colonne_S = [[st] for st in sin_theta]\n",
    "\n",
    "C=np.asarray(colonne_C)\n",
    "S=np.asarray(colonne_S)\n",
    "\n",
    "for i in range(nrho-1):\n",
    "    C=np.hstack((C,colonne_C))\n",
    "    S=np.hstack((S,colonne_S))\n"
   ]
  },
  {
   "cell_type": "markdown",
   "metadata": {},
   "source": [
    "2. Soit $(x_1,y_1),..,(x_n,y_n)$ la liste des $n$ points de contours dans l'image de contours binarisée que l'on doit analyser, remarquer alors que $H = \\sum_{i=1}^n |x_i C + y_i S - R| <= tol$. En déduire une version 2 de la fonction ``houghl_opt()``. Comparer le temps d'exécution avec la version précédente. "
   ]
  },
  {
   "cell_type": "code",
   "execution_count": 38,
   "metadata": {},
   "outputs": [],
   "source": [
    "\n",
    "def houghl_opt(I,ntheta,nrho,tol):\n",
    "    \"\"\" Array*int*int*float -> Array[int] \"\"\"\n",
    "    \n",
    "    def appartient_droite(x,y,cos_theta,sin_theta, rho,tol):\n",
    "        \"\"\"float[2]*float*float->boolean\"\"\"\n",
    "        return abs(cos_theta*x+sin_theta*y-rho)<tol\n",
    "\n",
    "    #Accumulateur H\n",
    "    H = np.zeros((ntheta,nrho))\n",
    "    \n",
    "    #Tableaux d'indices X et Y des valeurs non nulles de l'images à l'aide de la fonction nonzero de Numpy\n",
    "    Y,X = np.nonzero(I)\n",
    "    \n",
    "    #Définition de rho max\n",
    "    dimy,dimx = I.shape\n",
    "    rmax=math.sqrt(dimx**2+dimy**2)\n",
    "    \n",
    "    #Liste des valeurs prises par theta et rho avec les nombres de pas ntheta et nrho donnés\n",
    "    ligne_theta=np.linspace(-math.pi/2,math.pi,ntheta)\n",
    "    ligne_rho=np.linspace(0,rmax,nrho)\n",
    "    \n",
    "    #Construction de R\n",
    "    R=np.ones((ntheta,nrho))\n",
    "    for ligne in range(len(R)):\n",
    "        R[ligne]=ligne_rho\n",
    "    \n",
    "    #Construction de S, C\n",
    "    cos_theta=np.cos(ligne_theta)\n",
    "    sin_theta=np.sin(ligne_theta)\n",
    "\n",
    "    #On transforme cos_theta et sin_theta en colonnes\n",
    "    colonne_C = [[ct] for ct in cos_theta]\n",
    "    colonne_S = [[st] for st in sin_theta]\n",
    "\n",
    "    C=np.asarray(colonne_C)\n",
    "    S=np.asarray(colonne_S)\n",
    "    \n",
    "    for i in range(nrho-1):\n",
    "        C=np.hstack((C,colonne_C))\n",
    "        S=np.hstack((S,colonne_S))\n",
    "\n",
    "#on parcourt les pixel de l'image\n",
    "    for (y,x) in zip(Y,X):\n",
    "        if I[y,x]>tol:\n",
    "            tmp = np.abs(x*C+y*S-R)<tol\n",
    "            H+=tmp.astype(int)\n",
    "    return H\n"
   ]
  },
  {
   "cell_type": "code",
   "execution_count": 39,
   "metadata": {},
   "outputs": [
    {
     "data": {
      "text/plain": [
       "<matplotlib.image.AxesImage at 0x1c19116908>"
      ]
     },
     "execution_count": 39,
     "metadata": {},
     "output_type": "execute_result"
    },
    {
     "data": {
      "image/png": "[encoded data removed]",
      "text/plain": [
       "<Figure size 864x432 with 1 Axes>"
      ]
     },
     "metadata": {
      "needs_background": "light"
     },
     "output_type": "display_data"
    }
   ],
   "source": [
    "#précisions en degré\n",
    "rho= 2.0\n",
    "theta=1.0\n",
    "\n",
    "#ntheta et nrho en fonction des précisions de rho et ntheta\n",
    "ntheta = int(360.0/theta)\n",
    "#idéalement, nrho vaut la longueur d'une diagonale de l'image\n",
    "nrho = int(math.floor(math.sqrt(dimx**2+dimy**2))/rho)\n",
    "\n",
    "\n",
    "figure(figsize=(12,6))\n",
    "imshow(houghl_opt(I,ntheta,nrho,0.5),cmap=cm.gray)"
   ]
  },
  {
   "cell_type": "markdown",
   "metadata": {},
   "source": [
    "### TEST DE COMPLEXITE TEMPORELLE"
   ]
  },
  {
   "cell_type": "markdown",
   "metadata": {},
   "source": [
    "__Temps d'exécution en fonction de ntheta:__"
   ]
  },
  {
   "cell_type": "code",
   "execution_count": 41,
   "metadata": {},
   "outputs": [],
   "source": [
    "I=image_contours_ligne_simple()\n",
    "\n",
    "#précisions en degré\n",
    "theta= 1.0\n",
    "\n",
    "#ntheta et nrho en fonction des précisions de rho et ntheta\n",
    "ntheta = int(360.0/theta)\n",
    "\n",
    "#Liste des valeurs prises par ntheta\n",
    "tab_nrho=[int(math.floor(math.sqrt(dimx**2+dimy**2))/rho) for rho in reversed(range(2,22,2))]\n",
    "\n",
    "\n",
    "#Calcul du temps d'exécution\n",
    "\n",
    "temps=[]\n",
    "\n",
    "for nrho in tab_nrho:\n",
    "    start=process_time()\n",
    "    houghl_opt(I,ntheta,nrho,0.5)\n",
    "    end=process_time()\n",
    "    temps.append(end-start)"
   ]
  },
  {
   "cell_type": "code",
   "execution_count": 42,
   "metadata": {},
   "outputs": [
    {
     "name": "stdout",
     "output_type": "stream",
     "text": [
      "[0.0742099999997663, 0.07747399999971094, 0.10162399999990157, 0.10213800000019546, 0.1068119999999908, 0.13366600000063045, 0.15315000000009604, 0.20955599999979313, 0.3929920000000493, 1.1748600000000806]\n"
     ]
    }
   ],
   "source": [
    "print(temps)"
   ]
  },
  {
   "cell_type": "code",
   "execution_count": 43,
   "metadata": {},
   "outputs": [
    {
     "data": {
      "image/png": "[encoded data removed]",
      "text/plain": [
       "<Figure size 432x288 with 1 Axes>"
      ]
     },
     "metadata": {
      "needs_background": "light"
     },
     "output_type": "display_data"
    }
   ],
   "source": [
    "\n",
    "plt.plot(temps)\n",
    "plt.title=('Temps d\\'exécution en fonction de ntheta')\n",
    "\n",
    "plt.show()"
   ]
  },
  {
   "cell_type": "markdown",
   "metadata": {},
   "source": [
    "__Temps d'exécution en fonction de nrho:__"
   ]
  },
  {
   "cell_type": "code",
   "execution_count": 44,
   "metadata": {},
   "outputs": [],
   "source": [
    "I=image_contours_ligne_simple()\n",
    "\n",
    "#précisions en degré\n",
    "theta= 1.0\n",
    "\n",
    "#ntheta et nrho en fonction des précisions de rho et ntheta\n",
    "ntheta = int(360.0/theta)\n",
    "\n",
    "#Liste des valeurs prises par ntheta\n",
    "tab_nrho=[int(math.floor(math.sqrt(dimx**2+dimy**2))/rho) for rho in reversed(range(2,22,2))]\n",
    "\n",
    "\n",
    "#Calcul du temps d'exécution\n",
    "\n",
    "temps=[]\n",
    "\n",
    "for nrho in tab_nrho:\n",
    "    start=process_time()\n",
    "    houghl_opt(I,ntheta,nrho,0.5)\n",
    "    end=process_time()\n",
    "    temps.append(end-start)"
   ]
  },
  {
   "cell_type": "code",
   "execution_count": 45,
   "metadata": {},
   "outputs": [
    {
     "name": "stdout",
     "output_type": "stream",
     "text": [
      "[0.07858399999986432, 0.07711800000015501, 0.10287800000060088, 0.10031400000025315, 0.10598200000003999, 0.12720600000011473, 0.1542120000003706, 0.20861800000056974, 0.40042600000015227, 1.485049999999319]\n"
     ]
    }
   ],
   "source": [
    "print(temps)"
   ]
  },
  {
   "cell_type": "code",
   "execution_count": 46,
   "metadata": {},
   "outputs": [
    {
     "data": {
      "image/png": "[encoded data removed]",
      "text/plain": [
       "<Figure size 432x288 with 1 Axes>"
      ]
     },
     "metadata": {
      "needs_background": "light"
     },
     "output_type": "display_data"
    }
   ],
   "source": [
    "\n",
    "plt.plot(temps)\n",
    "plt.title=('Temps d\\'exécution en fonction de ntheta')\n",
    "\n",
    "plt.show()"
   ]
  },
  {
   "cell_type": "markdown",
   "metadata": {},
   "source": [
    "### Question 3 : Recherche des $N$ plus grands maxima locaux\n",
    "\n",
    "On cherche ici à rechercher les $N$ plus grands maxima locaux de l'accumulateur de Hough afin de déterminer quelles sont les droites détectées.\n",
    "\n",
    "1. Écrire une fonction ```maxloc_N(H,N)``` qui calcule les ``N`` maxima locaux de l'accumulateur ``H``. La fonction est similaire à celle du TME 6 (```maxloc()```) avec une différence toutefois : elle retourne une liste des coordonnées des ``N`` premiers maxima locaux **trié** par valeurs décroissantes qu'ils prennent dans ```H```. On rappelle que Python possède une fonction ```sorted()``` opérant sur les listes."
   ]
  },
  {
   "cell_type": "code",
   "execution_count": 47,
   "metadata": {},
   "outputs": [],
   "source": [
    "def maxloc_N(H, N): \n",
    "    \"\"\" Array[int]*int -> list[tuple(int,int)] \"\"\"\n",
    "    \n",
    "    dimy,dimx = H.shape\n",
    "    \n",
    "    #Matrice des maxima locaux\n",
    "    max_locaux=np.zeros((dimy,dimx))\n",
    "\n",
    "    #Liste des indices des N plus grands maxima locaux\n",
    "    index_max=[]\n",
    "    \n",
    "    for x in range(1,dimx-1):\n",
    "        for y in range(1,dimy-1):\n",
    "                p = H[y,x]\n",
    "                #Si p est un maximum local\n",
    "                if p==np.max(H[y-1:y+2,x-1:x+2]):\n",
    "                    max_locaux[y,x]=p\n",
    "                    \n",
    "    #Choix des N plus grands maxima locaux\n",
    "    #index_max est trié dans l'ordre décroissant\n",
    "\n",
    "    while len(index_max)<N:\n",
    "        arg = np.argmax(max_locaux)\n",
    "        #calcul de la ligne\n",
    "        y=arg//dimx\n",
    "        #calcul de la colonne\n",
    "        x=arg%dimx\n",
    "        index_max.append((y,x))\n",
    "        max_locaux[y,x]=0\n",
    "        \n",
    "    return index_max"
   ]
  },
  {
   "cell_type": "markdown",
   "metadata": {},
   "source": [
    "2. Tester cette fonction sur l'accumulateur calculé à la question 1 (ou 2)."
   ]
  },
  {
   "cell_type": "code",
   "execution_count": 49,
   "metadata": {},
   "outputs": [
    {
     "name": "stdout",
     "output_type": "stream",
     "text": [
      "maxloxN(H,10)= [(300, 34), (298, 36), (298, 37), (301, 32), (302, 29), (302, 30), (296, 42), (303, 27), (295, 44), (294, 46), (293, 48), (305, 22), (305, 23), (292, 51), (306, 20), (291, 39), (291, 49), (291, 53), (308, 19), (289, 40), (289, 43), (289, 46), (289, 53), (289, 56), (290, 55), (308, 15), (308, 16), (308, 17), (309, 14), (309, 15), (309, 16), (309, 17), (309, 21), (309, 22), (309, 23), (309, 24), (309, 25), (309, 26), (309, 27), (286, 44), (286, 63), (287, 41), (287, 50), (287, 51), (287, 52), (287, 53), (287, 54), (287, 55), (287, 56), (288, 48), (288, 49), (288, 50), (288, 51), (288, 58), (288, 59), (288, 60), (289, 58), (310, 11), (310, 12), (310, 29), (311, 8), (311, 12), (311, 13), (311, 14), (311, 17), (311, 18), (311, 19), (311, 23), (311, 24), (311, 25), (311, 28), (311, 29), (312, 15), (312, 17), (312, 19), (312, 21), (76, 2), (77, 1), (77, 4), (282, 52), (282, 55), (282, 66), (282, 69), (283, 44), (283, 45), (283, 48), (283, 49), (283, 52), (283, 53), (283, 56), (283, 57), (283, 60), (283, 61), (283, 64), (283, 68), (284, 45), (284, 46), (284, 47), (284, 50), (284, 51)]\n"
     ]
    }
   ],
   "source": [
    "#précisions en degré\n",
    "rho= 2.0\n",
    "theta=1.0\n",
    "\n",
    "#ntheta et nrho en fonction des précisions de rho et ntheta\n",
    "ntheta = int(360.0/theta)\n",
    "#idéalement, nrho vaut la longueur d'une diagonale de l'image\n",
    "nrho = int(math.floor(math.sqrt(dimx**2+dimy**2))/rho)\n",
    "\n",
    "#Accumulateur H\n",
    "H=houghl_opt(I,ntheta,nrho,0.5)\n",
    "\n",
    "#Calcul des maxima locaux\n",
    "N=100\n",
    "print('maxloxN(H,10)=',maxloc_N(H,N))"
   ]
  },
  {
   "cell_type": "code",
   "execution_count": 50,
   "metadata": {},
   "outputs": [
    {
     "data": {
      "text/plain": [
       "<matplotlib.image.AxesImage at 0x1c19fb7b38>"
      ]
     },
     "execution_count": 50,
     "metadata": {},
     "output_type": "execute_result"
    },
    {
     "data": {
      "image/png": "[encoded data removed]",
      "text/plain": [
       "<Figure size 864x432 with 1 Axes>"
      ]
     },
     "metadata": {
      "needs_background": "light"
     },
     "output_type": "display_data"
    }
   ],
   "source": [
    "#Affichage graphique des N plus grands maxima locaux\n",
    "liste_maxloc=maxloc_N(H,N)\n",
    "\n",
    "maxlocaux_N=np.zeros((dimy,dimx))\n",
    "for pixel in liste_maxloc:\n",
    "    y,x = pixel\n",
    "    maxlocaux_N[y,x]=H[y,x]\n",
    "\n",
    "figure(figsize=(12,6))\n",
    "imshow(maxlocaux_N,cmap=cm.gray)"
   ]
  },
  {
   "cell_type": "markdown",
   "metadata": {},
   "source": [
    "3. Écrire une fonction ``hougl_intersect(l,c,H,I)`` qui calcule l'intersection de la droite de coordonnée ``(l,c)`` dans l'accumulateur ``H`` avec les bords de l'image ``I``. La fonction doit calculer les valeurs $(\\rho,\\theta)$ correspondant à ``(l,c)`` puis calculer une liste de 4 coordonnées qui correspond aux intersections de la droite  $(\\rho,\\theta)$ avec les droites $x=0$, $x=m-1$, $y=0$ et $y=m-1$ dans le plan image. La fonction ne retournera que les intersections qui sont dans le plan de l'image (normalement 2) sous forme de deux listes: la première liste donc les indices de colonne, et la seconde, les indices de ligne."
   ]
  },
  {
   "cell_type": "code",
   "execution_count": 51,
   "metadata": {},
   "outputs": [],
   "source": [
    "def houghl_intersect(l,c,H,I):\n",
    "    \"\"\" int*int*Array[int]*Array -> tuple[list[int],list[int]] \"\"\"\n",
    "    "
   ]
  },
  {
   "cell_type": "markdown",
   "metadata": {},
   "source": [
    "4. Écrire une fonction ``houghl_draw(H,N,I)`` qui affiche l'image ``I`` et les ``N`` segments de droites correspondant aux $N$ premiers maxima locaux de $H$. Testez là sur l'accumulateur précédent. Si le résultat n'est pas très précis, recalculer l'accumulateur de Hough avec plus de précision."
   ]
  },
  {
   "cell_type": "code",
   "execution_count": 56,
   "metadata": {},
   "outputs": [],
   "source": [
    "def  houghl_draw(H,N,I):\n",
    "    \"\"\" Array[int]*int*Array -> NoneType\"\"\"\n",
    "    \n"
   ]
  },
  {
   "cell_type": "code",
   "execution_count": 57,
   "metadata": {},
   "outputs": [],
   "source": [
    "H_rectangle=houghl_opt(rectangle,ntheta,nrho,0.5)\n",
    "\n"
   ]
  },
  {
   "cell_type": "markdown",
   "metadata": {},
   "source": [
    "### Question 4 : Détection de lignes sur une image.\n",
    "\n",
    "On cherche maintenant à détecter les lignes dans une image quelconque à l'aide de la méthode de Hough.\n",
    "\n",
    "1. Écrire une fonction ``edges(I,s)`` qui réalise une détection de contours sur l'image ``I`` à l'aide des opérateurs de Sobel et de la fonction ``convolve2d()``. On effectuera un seuillage binaire sur la norme du gradient, le seuil sera donné par ``s``. Enfin, on utilisera la fonction ```morphology.thin()``` du module ``skimage`` qui permet de réalisé un affinage des contours. La fonction retournera la carte des contours affinés.\n",
    "\n"
   ]
  },
  {
   "cell_type": "code",
   "execution_count": 58,
   "metadata": {},
   "outputs": [],
   "source": [
    "def edges(I,s):\n",
    "    \"\"\" Array*float -> Array[bool] \"\"\"\n",
    "    Sobel_x=np.array([[-1,0,1],[-2,0,2],[-1,0,1]])\n",
    "    Sobel_y=np.array([[-1,2,-1],[0,0,0],[1,2,1]])\n",
    "    \n",
    "    Ix=convolve2d(I,Sobel_x)\n",
    "    Iy=convolve2d(I,Sobel_y)\n",
    "    I2=np.zeros_like(I)\n",
    "    \n",
    "    n,m=I.shape\n",
    "    \n",
    "    for i in range(n):\n",
    "        for j in range(m):\n",
    "            #norme du gradient\n",
    "            norm=np.linalg.norm([Ix[i,j],Iy[i,j]])\n",
    "            if norm>s:\n",
    "                I2[i,j]=1\n",
    "    #Affinage des contours\n",
    "    return morphology.thin(I2)\n"
   ]
  },
  {
   "cell_type": "markdown",
   "metadata": {},
   "source": [
    "2. Tester la fonction ``edges()`` sur l'image ``rectangle.png``. Afficher l'image des contours binarisée."
   ]
  },
  {
   "cell_type": "markdown",
   "metadata": {},
   "source": [
    "3. Calculer et afficher l''accumulateur de Hough pour cette image. On utilisera la version optimisée du détecteur de Hough ainsi que les valeurs ntheta=360 et nrho = longueur diagonale de l'image. Commenter l'aspect de l'accumulateur."
   ]
  },
  {
   "cell_type": "markdown",
   "metadata": {},
   "source": [
    "4. Afficher les coordonnées et valeurs des premiers maxima locaux. Pour obtenir un bon résultat, il faut probablement avoir une bonne précision sur les valeurs de $\\theta$ pour une tolérance faible (<1), une tolérance trop peu faible implique des détections multiples pour le même segment de droite dans l'image. Reconstruire et afficher les 4 droites détectées dans l'accumulateur."
   ]
  },
  {
   "cell_type": "markdown",
   "metadata": {},
   "source": [
    "### Question 5: expérimentation\n",
    "Tester vos codes sur les images ``carrelage.png``, ``jussieu.png``, ``chaise.png``, ``table.png`` et ``house2.png``."
   ]
  },
  {
   "cell_type": "code",
   "execution_count": 63,
   "metadata": {},
   "outputs": [
    {
     "name": "stdout",
     "output_type": "stream",
     "text": [
      "Image carrelage taille (349, 454)\n",
      "0.0005400000000008731\n",
      "Image jussieu taille (500, 500)\n",
      "0.0002700000004551839\n",
      "Image chaise taille (707, 500)\n",
      "0.0002699999995456892\n",
      "Image table taille (500, 500)\n",
      "0.0002660000000105356\n",
      "Image house taille (256, 256)\n",
      "0.0002679999997781124\n"
     ]
    }
   ],
   "source": [
    "images = [carrelage,jussieu,chaise,table,house]\n",
    "titres = [\"carrelage\",\"jussieu\",\"chaise\",\"table\",\"house\"]\n",
    "\n",
    "for img,titre in zip(images,titres):\n",
    "    tic()\n",
    "    print(\"Image\",titre,\"taille\",img.shape)\n",
    "    #Code\n",
    "    \n",
    "    tac()\n"
   ]
  },
  {
   "cell_type": "markdown",
   "metadata": {},
   "source": [
    "## Exercice  2 : Détection de cercles (bonus)\n",
    "\n",
    "Implémentez une détection de cercles par la méthode de Hough en adaptant ce qui a été fait dans l'exercice précédent.\n",
    "\n",
    "- Vous pourrez restreindre la détection aux cercles de rayon inférieur à rayon_max et supérieur à rayon_min.\n",
    "- On limitera la détection aux cercles dont le centre est dans l'image.\n",
    "- Il est nécessaire de normaliser l'accumulateur par le périmètre du cercle pour ne pas favoriser la détection de grands cercles.\n",
    "\n",
    "\n"
   ]
  },
  {
   "cell_type": "code",
   "execution_count": null,
   "metadata": {},
   "outputs": [],
   "source": [
    "# Données\n",
    "lune = array(Image.open(\"images/Lune.png\"))\n",
    "cible = array(Image.open(\"images/cible.png\"))\n",
    "pieces = array(Image.open(\"images/pieces.png\"))\n",
    "table = array(Image.open(\"images/table.png\"))\n",
    "chaise = array(Image.open(\"images/chaise.png\"))\n",
    "velo = array(Image.open(\"images/Bicyclette_de_Lawson.png\").convert('L'))\n",
    "\n",
    "# image synthétique \n",
    "def cercle_simple():\n",
    "    \"\"\" NoneType -> Array\n",
    "    Construit l'image 200x200 d'un disque de rayon 20 centré. \n",
    "    \"\"\"\n",
    "    image_contours = zeros((200,200))\n",
    "    r = 20\n",
    "    for angle in arange(0,360)*pi/180:\n",
    "        x = int(round(r*cos(angle))) + 100\n",
    "        y = int(round(r*sin(angle))) + 100\n",
    "        image_contours[x,y] = 1\n",
    "    return image_contours\n",
    "\n",
    "\n",
    "def trace_image_et_cercles(image, liste_cercles):\n",
    "    \"\"\"\n",
    "    Array*list[tuple(int,int,int)] -> NoneType\n",
    "    Affichage supperposé d'une image et de cercles.\n",
    "    \"\"\"\n",
    "    fig, ax = subplots()\n",
    "    imshow(image, cmap=cm.gray)\n",
    "    for cercle in liste_cercles:\n",
    "        rayon = cercle[0]\n",
    "        X_c = cercle[2]\n",
    "        Y_c = cercle[1]\n",
    "        circle1 = Circle((X_c, Y_c),rayon,color='r', fill=False)\n",
    "        gcf().gca().add_artist(circle1)\n",
    "        \n",
    "#    set_xlim((0, image.shape[1]))\n",
    "#    set_ylim((image.shape[0], 0))\n",
    "    set_axis_off()\n",
    "    set_title('Cercles détectés')\n",
    "    show()\n"
   ]
  },
  {
   "cell_type": "code",
   "execution_count": null,
   "metadata": {},
   "outputs": [],
   "source": [
    "# mise au point sur cette image\n",
    "cercle = cercle_simple()\n",
    "\n",
    "def houghc(img, r_min, r_max,tol):\n",
    "    \"\"\" Array[bool]*int*int*float -> Array \"\"\"\n",
    "                \n",
    "\n",
    "def maxloc_houghc(H,N):\n",
    "    \"\"\" Array*int -> list[tuple(int,int,int)]\"\"\"\n"
   ]
  }
 ],
 "metadata": {
  "anaconda-cloud": {},
  "kernelspec": {
   "display_name": "Python 3",
   "language": "python",
   "name": "python3"
  },
  "language_info": {
   "codemirror_mode": {
    "name": "ipython",
    "version": 3
   },
   "file_extension": ".py",
   "mimetype": "text/x-python",
   "name": "python",
   "nbconvert_exporter": "python",
   "pygments_lexer": "ipython3",
   "version": "3.7.1"
  }
 },
 "nbformat": 4,
 "nbformat_minor": 1
}
